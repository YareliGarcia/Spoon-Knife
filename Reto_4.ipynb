{
  "nbformat": 4,
  "nbformat_minor": 0,
  "metadata": {
    "colab": {
      "name": "Reto 4",
      "provenance": [],
      "collapsed_sections": [],
      "authorship_tag": "ABX9TyNSRAUypUHEdpXQzxfZ25s0",
      "include_colab_link": true
    },
    "kernelspec": {
      "name": "python3",
      "display_name": "Python 3"
    }
  },
  "cells": [
    {
      "cell_type": "markdown",
      "metadata": {
        "id": "view-in-github",
        "colab_type": "text"
      },
      "source": [
        "<a href=\"https://colab.research.google.com/github/YareliGarcia/Spoon-Knife/blob/change-the-title/Reto_4.ipynb\" target=\"_parent\"><img src=\"https://colab.research.google.com/assets/colab-badge.svg\" alt=\"Open In Colab\"/></a>"
      ]
    },
    {
      "cell_type": "code",
      "metadata": {
        "colab": {
          "base_uri": "https://localhost:8080/"
        },
        "id": "YrRyDzKDqb1T",
        "outputId": "c31316cc-f1db-45d6-bec9-efebf0a2f09c"
      },
      "source": [
        "!pip install --upgrade azure-cognitiveservices-vision-computervision"
      ],
      "execution_count": null,
      "outputs": [
        {
          "output_type": "stream",
          "text": [
            "Requirement already up-to-date: azure-cognitiveservices-vision-computervision in /usr/local/lib/python3.7/dist-packages (0.7.0)\n",
            "Requirement already satisfied, skipping upgrade: azure-common~=1.1 in /usr/local/lib/python3.7/dist-packages (from azure-cognitiveservices-vision-computervision) (1.1.26)\n",
            "Requirement already satisfied, skipping upgrade: msrest>=0.5.0 in /usr/local/lib/python3.7/dist-packages (from azure-cognitiveservices-vision-computervision) (0.6.21)\n",
            "Requirement already satisfied, skipping upgrade: requests~=2.16 in /usr/local/lib/python3.7/dist-packages (from msrest>=0.5.0->azure-cognitiveservices-vision-computervision) (2.23.0)\n",
            "Requirement already satisfied, skipping upgrade: requests-oauthlib>=0.5.0 in /usr/local/lib/python3.7/dist-packages (from msrest>=0.5.0->azure-cognitiveservices-vision-computervision) (1.3.0)\n",
            "Requirement already satisfied, skipping upgrade: certifi>=2017.4.17 in /usr/local/lib/python3.7/dist-packages (from msrest>=0.5.0->azure-cognitiveservices-vision-computervision) (2020.12.5)\n",
            "Requirement already satisfied, skipping upgrade: isodate>=0.6.0 in /usr/local/lib/python3.7/dist-packages (from msrest>=0.5.0->azure-cognitiveservices-vision-computervision) (0.6.0)\n",
            "Requirement already satisfied, skipping upgrade: idna<3,>=2.5 in /usr/local/lib/python3.7/dist-packages (from requests~=2.16->msrest>=0.5.0->azure-cognitiveservices-vision-computervision) (2.10)\n",
            "Requirement already satisfied, skipping upgrade: chardet<4,>=3.0.2 in /usr/local/lib/python3.7/dist-packages (from requests~=2.16->msrest>=0.5.0->azure-cognitiveservices-vision-computervision) (3.0.4)\n",
            "Requirement already satisfied, skipping upgrade: urllib3!=1.25.0,!=1.25.1,<1.26,>=1.21.1 in /usr/local/lib/python3.7/dist-packages (from requests~=2.16->msrest>=0.5.0->azure-cognitiveservices-vision-computervision) (1.24.3)\n",
            "Requirement already satisfied, skipping upgrade: oauthlib>=3.0.0 in /usr/local/lib/python3.7/dist-packages (from requests-oauthlib>=0.5.0->msrest>=0.5.0->azure-cognitiveservices-vision-computervision) (3.1.0)\n",
            "Requirement already satisfied, skipping upgrade: six in /usr/local/lib/python3.7/dist-packages (from isodate>=0.6.0->msrest>=0.5.0->azure-cognitiveservices-vision-computervision) (1.15.0)\n"
          ],
          "name": "stdout"
        }
      ]
    },
    {
      "cell_type": "code",
      "metadata": {
        "id": "-KoEcH4nxqj8"
      },
      "source": [
        "from azure.cognitiveservices.vision.computervision import ComputerVisionClient\r\n",
        "from azure.cognitiveservices.vision.computervision.models import OperationStatusCodes\r\n",
        "from azure.cognitiveservices.vision.computervision.models import VisualFeatureTypes\r\n",
        "from msrest.authentication import CognitiveServicesCredentials\r\n",
        "\r\n",
        "from array import array\r\n",
        "import os\r\n",
        "from PIL import Image\r\n",
        "import sys\r\n",
        "import time"
      ],
      "execution_count": null,
      "outputs": []
    },
    {
      "cell_type": "code",
      "metadata": {
        "id": "4vqlwEJN0q5c"
      },
      "source": [
        "endpoint = \"https://woman01.cognitiveservices.azure.com/\"\r\n",
        "subscription_key =\"c001d0c2ee394d58935f83019184d3cd\"\r\n",
        "\r\n",
        "computervision_client = ComputerVisionClient(endpoint, CognitiveServicesCredentials(subscription_key))"
      ],
      "execution_count": null,
      "outputs": []
    },
    {
      "cell_type": "code",
      "metadata": {
        "id": "_yrerbNX17AQ"
      },
      "source": [
        "remote_image_url = \"https://aws.admagazine.com/prod/designs/v1/assets/620x439/64861.jpg\""
      ],
      "execution_count": null,
      "outputs": []
    },
    {
      "cell_type": "code",
      "metadata": {
        "id": "tdqaQSyO3b4z",
        "colab": {
          "base_uri": "https://localhost:8080/"
        },
        "outputId": "7e138091-681c-4c5b-da90-ee5bab47b7a3"
      },
      "source": [
        "#Obtener dadtos espeficícos \r\n",
        "print(\"===== Obtener datos espeficícos de la imagen =====\")\r\n",
        "# Call API\r\n",
        "description_results = computervision_client.describe_image(remote_image_url )\r\n",
        "\r\n"
      ],
      "execution_count": null,
      "outputs": [
        {
          "output_type": "stream",
          "text": [
            "===== Obtener datos espeficícos de la imagen =====\n"
          ],
          "name": "stdout"
        }
      ]
    },
    {
      "cell_type": "code",
      "metadata": {
        "colab": {
          "base_uri": "https://localhost:8080/"
        },
        "id": "eMAuJyA2WuJj",
        "outputId": "236b40a6-d35b-4702-d01f-5fbf6583edd8"
      },
      "source": [
        "from pprint import pprint\r\n",
        "\r\n",
        "pprint(description_results.as_dict())\r\n"
      ],
      "execution_count": 17,
      "outputs": [
        {
          "output_type": "stream",
          "text": [
            "{'captions': [{'confidence': 0.4327116906642914,\n",
            "               'text': 'a person looking at a painting'}],\n",
            " 'metadata': {'format': 'Jpeg', 'height': 439, 'width': 620},\n",
            " 'request_id': 'd39454bc-1827-4efd-b4a8-a2b5d244b62f',\n",
            " 'tags': ['room',\n",
            "          'scene',\n",
            "          'gallery',\n",
            "          'wall',\n",
            "          'person',\n",
            "          'indoor',\n",
            "          'standing',\n",
            "          'posing']}\n"
          ],
          "name": "stdout"
        }
      ]
    },
    {
      "cell_type": "code",
      "metadata": {
        "id": "A3kdaG7UVAfk",
        "colab": {
          "base_uri": "https://localhost:8080/"
        },
        "outputId": "49ecf96f-c3a7-4aa0-aa23-7b6887f621bf"
      },
      "source": [
        "# Get the captions (descriptions) from the response, with confidence level\r\n",
        "print(\"Descripción de objetos: \")\r\n",
        "if (len(description_results.captions) == 0):\r\n",
        "    print(\"No description detected.\")\r\n",
        "    for elemento in description_results.as_dict()[\"captions\"]:\r\n",
        "      print(elemento[\"text\"])\r\n",
        "  \r\n",
        "else:\r\n",
        "    for caption in description_results.captions:\r\n",
        "        print(\"'{}' with confidence {:.2f}%\".format(caption.text, caption.confidence * 100))"
      ],
      "execution_count": 28,
      "outputs": [
        {
          "output_type": "stream",
          "text": [
            "Descripción de objetos: \n",
            "'a person looking at a painting' with confidence 43.27%\n"
          ],
          "name": "stdout"
        }
      ]
    },
    {
      "cell_type": "code",
      "metadata": {
        "colab": {
          "base_uri": "https://localhost:8080/"
        },
        "id": "LG8LdSsZ9JoF",
        "outputId": "c91861bf-0c74-4764-b304-fbb44a849deb"
      },
      "source": [
        "print(\"Descripción de la imagen: \")\r\n",
        "if len(description_results.as_dict()['captions']) > 0:\r\n",
        "    print(\"Encontré consumidor:\")\r\n",
        "    for elemento in description_results.as_dict()['captions']:\r\n",
        "        print(elemento[\"text\"])\r\n",
        "else:\r\n",
        "    print(\"No encontré nada.\")"
      ],
      "execution_count": 29,
      "outputs": [
        {
          "output_type": "stream",
          "text": [
            "Descripción de la imagen: \n",
            "Encontré consumidor:\n",
            "a person looking at a painting\n"
          ],
          "name": "stdout"
        }
      ]
    },
    {
      "cell_type": "code",
      "metadata": {
        "id": "c6J-KyGn9ItY"
      },
      "source": [
        ""
      ],
      "execution_count": null,
      "outputs": []
    }
  ]
}